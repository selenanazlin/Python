{
 "cells": [
  {
   "cell_type": "markdown",
   "metadata": {},
   "source": [
    "Create a class and function and list out the items in the list:"
   ]
  },
  {
   "cell_type": "code",
   "execution_count": 1,
   "metadata": {},
   "outputs": [],
   "source": [
    "def Subfields_in_AI():\n",
    "    subfields = [\"Machine Learning\", \"Neural Network\", \"Vision, Robotics\", \"Speech Processing\", \"Natural Language Processing\"]\n",
    "    print(\"The Subfields of AI are:\")\n",
    "    for subfield in subfields:\n",
    "        print(subfield)"
   ]
  },
  {
   "cell_type": "code",
   "execution_count": 2,
   "metadata": {},
   "outputs": [
    {
     "name": "stdout",
     "output_type": "stream",
     "text": [
      "The Subfields of AI are:\n",
      "Machine Learning\n",
      "Neural Network\n",
      "Vision, Robotics\n",
      "Speech Processing\n",
      "Natural Language Processing\n"
     ]
    }
   ],
   "source": [
    "Subfields_in_AI()"
   ]
  },
  {
   "cell_type": "markdown",
   "metadata": {},
   "source": [
    "Odd Even"
   ]
  },
  {
   "cell_type": "code",
   "execution_count": 3,
   "metadata": {},
   "outputs": [
    {
     "name": "stdout",
     "output_type": "stream",
     "text": [
      "enter a number:52452\n"
     ]
    }
   ],
   "source": [
    "num = int(input(\"enter a number:\"))\n",
    "def odd_even():\n",
    "    if((num%2)==0):\n",
    "        print(\"Even\")\n",
    "        a=\"Even\"\n",
    "    else:\n",
    "        print(\"odd\")\n",
    "        a=\"odd\"\n",
    "    return a"
   ]
  },
  {
   "cell_type": "code",
   "execution_count": 4,
   "metadata": {},
   "outputs": [
    {
     "name": "stdout",
     "output_type": "stream",
     "text": [
      "Even\n"
     ]
    }
   ],
   "source": [
    "number = odd_even()"
   ]
  },
  {
   "cell_type": "code",
   "execution_count": 6,
   "metadata": {},
   "outputs": [
    {
     "name": "stdout",
     "output_type": "stream",
     "text": [
      "52452 is even number\n"
     ]
    }
   ],
   "source": [
    "if(number == \"Even\"):\n",
    "    print(num, \"is even number\")\n",
    "else:\n",
    "    print(num, \"is odd number\")"
   ]
  },
  {
   "cell_type": "markdown",
   "metadata": {},
   "source": [
    "Marriage eligibility "
   ]
  },
  {
   "cell_type": "code",
   "execution_count": 1,
   "metadata": {},
   "outputs": [
    {
     "name": "stdout",
     "output_type": "stream",
     "text": [
      "Enter the gender:male\n",
      "Enter age:20\n",
      "Not Eligible\n",
      "None\n"
     ]
    }
   ],
   "source": [
    "def marriage_elegibility_male(age):\n",
    "    if age >= 21:\n",
    "        print(\"Eligible for marriage\")\n",
    "    else:\n",
    "        print(\"Not Eligible\")\n",
    "        \n",
    "def marriage_elegibility_female(age):\n",
    "    if age >= 18:\n",
    "        print(\"Eligible for marriage\")\n",
    "    else:\n",
    "        print(\"Not Eligible\")\n",
    "        \n",
    "gender = input(\"Enter the gender:\")\n",
    "age = int(input(\"Enter age:\"))\n",
    "\n",
    "if gender == \"male\":\n",
    "    result = marriage_elegibility_male(age)\n",
    "else:\n",
    "    result = marriage_elegibility_female(age)\n",
    "    \n",
    "print(result)"
   ]
  },
  {
   "cell_type": "code",
   "execution_count": 2,
   "metadata": {},
   "outputs": [
    {
     "name": "stdout",
     "output_type": "stream",
     "text": [
      "Enter the gender:male\n",
      "Enter age:20\n",
      "Not Eligible\n",
      "Not Eligible\n"
     ]
    }
   ],
   "source": [
    "def marriage_elegibility_male(age):\n",
    "    if age >= 21:\n",
    "        print(\"Eligible for marriage\")\n",
    "        a=\"Eligible for marriage\"\n",
    "    else:\n",
    "        print(\"Not Eligible\")\n",
    "        a=\"Not Eligible\"\n",
    "    return a\n",
    "        \n",
    "def marriage_elegibility_female(age):\n",
    "    if age >= 18:\n",
    "        print(\"Eligible for marriage\")\n",
    "        a=\"Eligible for marriage\"\n",
    "    else:\n",
    "        print(\"Not Eligible\")\n",
    "        a=\"Not Eligible\"\n",
    "    return a\n",
    "        \n",
    "gender = input(\"Enter the gender:\")\n",
    "age = int(input(\"Enter age:\"))\n",
    "\n",
    "if gender == \"male\":\n",
    "    result = marriage_elegibility_male(age)\n",
    "else:\n",
    "    result = marriage_elegibility_female(age)\n",
    "    \n",
    "print(result)"
   ]
  },
  {
   "cell_type": "code",
   "execution_count": 3,
   "metadata": {},
   "outputs": [
    {
     "name": "stdout",
     "output_type": "stream",
     "text": [
      "Enter the gender:male\n",
      "Enter age:20\n",
      "Not Eligible\n"
     ]
    }
   ],
   "source": [
    "def marriage_elegibility_male(age):\n",
    "    if age >= 21:\n",
    "        #print(\"Eligible for marriage\")\n",
    "        return\"Eligible for marriage\"\n",
    "    else:\n",
    "        #print(\"Not Eligible\")\n",
    "        return\"Not Eligible\"\n",
    "    #return a\n",
    "        \n",
    "def marriage_elegibility_female(age):\n",
    "    if age >= 18:\n",
    "        #print(\"Eligible for marriage\")\n",
    "        return\"Eligible for marriage\"\n",
    "    else:\n",
    "        #print(\"Not Eligible\")\n",
    "        return\"Not Eligible\"\n",
    "    #return a\n",
    "        \n",
    "gender = input(\"Enter the gender:\")\n",
    "age = int(input(\"Enter age:\"))\n",
    "\n",
    "if gender == \"male\":\n",
    "    result = marriage_elegibility_male(age)\n",
    "else:\n",
    "    result = marriage_elegibility_female(age)\n",
    "    \n",
    "print(result)"
   ]
  },
  {
   "cell_type": "markdown",
   "metadata": {},
   "source": [
    "Calculate % of 10th mark"
   ]
  },
  {
   "cell_type": "code",
   "execution_count": 7,
   "metadata": {},
   "outputs": [
    {
     "name": "stdout",
     "output_type": "stream",
     "text": [
      "Subject 1:98\n",
      "Subject 2:87\n",
      "Subject 3:95\n",
      "Subject 4:93\n",
      "Subject 5:95\n"
     ]
    }
   ],
   "source": [
    "def calculate_percentage():\n",
    "    percentage = (total_mark/max_mark)*100\n",
    "    return percentage\n",
    "\n",
    "sub1 = int(input(\"Subject 1:\"))\n",
    "sub2 = int(input(\"Subject 2:\"))\n",
    "sub3 = int(input(\"Subject 3:\"))\n",
    "sub4 = int(input(\"Subject 4:\"))\n",
    "sub5 = int(input(\"Subject 5:\"))\n",
    "\n",
    "total_mark = sub1+sub2+sub3+sub4+sub5\n",
    "max_mark = 500\n",
    "\n"
   ]
  },
  {
   "cell_type": "code",
   "execution_count": 8,
   "metadata": {},
   "outputs": [
    {
     "name": "stdout",
     "output_type": "stream",
     "text": [
      "93.60000000000001\n"
     ]
    }
   ],
   "source": [
    "print(calculate_percentage())"
   ]
  },
  {
   "cell_type": "code",
   "execution_count": 10,
   "metadata": {},
   "outputs": [
    {
     "name": "stdout",
     "output_type": "stream",
     "text": [
      "Subject 1 :98\n",
      "Subject 2 :87\n",
      "Subject 3 :95\n",
      "Subject 4 :95\n",
      "Subject 5 :93\n",
      "percentage:  93.60000000000001\n"
     ]
    }
   ],
   "source": [
    "def calculate_percentage():\n",
    "    percentage = (total_mark/max_mark)*100\n",
    "    return percentage\n",
    "\n",
    "sub1 = int(input(\"Subject 1 :\"))\n",
    "sub2 = int(input(\"Subject 2 :\"))\n",
    "sub3 = int(input(\"Subject 3 :\"))\n",
    "sub4 = int(input(\"Subject 4 :\"))\n",
    "sub5 = int(input(\"Subject 5 :\"))\n",
    "\n",
    "total_mark = sub1+sub2+sub3+sub4+sub5\n",
    "max_mark = 500\n",
    "\n",
    "print(\"percentage: \",calculate_percentage())"
   ]
  },
  {
   "cell_type": "markdown",
   "metadata": {},
   "source": [
    "Triangle - area and perimeter "
   ]
  },
  {
   "cell_type": "code",
   "execution_count": 15,
   "metadata": {},
   "outputs": [
    {
     "name": "stdout",
     "output_type": "stream",
     "text": [
      "Height: 32\n",
      "Breath: 34\n",
      "Area formula = (height*breath)/2\n",
      "544.0\n",
      "Height1: 2\n",
      "Height2: 4\n",
      "Breath: 4\n",
      "Perimeter formula = height1 + height2 + breath\n",
      "10\n"
     ]
    }
   ],
   "source": [
    "def triangle_area():\n",
    "    height = int(input(\"Height: \"))\n",
    "    breath = int(input(\"Breath: \"))\n",
    "    print(\"Area formula = (height*breath)/2\")\n",
    "    area = (height*breath)/2\n",
    "    return area\n",
    "\n",
    "def triangle_perimeter():\n",
    "    height1 = int(input(\"Height1: \"))\n",
    "    height2 = int(input(\"Height2: \"))\n",
    "    breath = int(input(\"Breath: \"))\n",
    "    print(\"Perimeter formula = height1 + height2 + breath\")\n",
    "    perimeter = height1 + height2 + breath\n",
    "    return perimeter\n",
    "\n",
    "print(triangle_area())\n",
    "print(triangle_perimeter())"
   ]
  },
  {
   "cell_type": "code",
   "execution_count": null,
   "metadata": {},
   "outputs": [],
   "source": []
  }
 ],
 "metadata": {
  "kernelspec": {
   "display_name": "Python 3",
   "language": "python",
   "name": "python3"
  },
  "language_info": {
   "codemirror_mode": {
    "name": "ipython",
    "version": 3
   },
   "file_extension": ".py",
   "mimetype": "text/x-python",
   "name": "python",
   "nbconvert_exporter": "python",
   "pygments_lexer": "ipython3",
   "version": "3.8.5"
  }
 },
 "nbformat": 4,
 "nbformat_minor": 4
}
