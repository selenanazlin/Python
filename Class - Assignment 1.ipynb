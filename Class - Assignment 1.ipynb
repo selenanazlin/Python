{
 "cells": [
  {
   "cell_type": "markdown",
   "metadata": {},
   "source": [
    "SubfieldsInAI.Subfields()"
   ]
  },
  {
   "cell_type": "code",
   "execution_count": 3,
   "metadata": {},
   "outputs": [],
   "source": [
    "class Subfields():\n",
    "    def Subfields_in_AI():\n",
    "        subfields = [\"Machine Learning\", \"Neural Network\", \"Vision\", \"Robotics\", \"Speech Processing\", \"Natural Language Processing\"]\n",
    "        print(\"The Subfields of AI are:\")\n",
    "        for subfield in subfields:\n",
    "            print(subfield)"
   ]
  },
  {
   "cell_type": "code",
   "execution_count": 4,
   "metadata": {},
   "outputs": [
    {
     "name": "stdout",
     "output_type": "stream",
     "text": [
      "The Subfields of AI are:\n",
      "Machine Learning\n",
      "Neural Network\n",
      "Vision\n",
      "Robotics\n",
      "Speech Processing\n",
      "Natural Language Processing\n"
     ]
    }
   ],
   "source": [
    "Subfields.Subfields_in_AI()"
   ]
  },
  {
   "cell_type": "markdown",
   "metadata": {},
   "source": [
    "OddEven.OddEven()"
   ]
  },
  {
   "cell_type": "code",
   "execution_count": 13,
   "metadata": {},
   "outputs": [],
   "source": [
    "class OddEven():\n",
    "    def OddEven():\n",
    "        num = int(input(\"enter a number:\"))\n",
    "        if((num%2)==0):\n",
    "            print(\"Even\")\n",
    "            \n",
    "        else:\n",
    "            print(\"odd\")\n",
    "            "
   ]
  },
  {
   "cell_type": "code",
   "execution_count": 15,
   "metadata": {},
   "outputs": [
    {
     "name": "stdout",
     "output_type": "stream",
     "text": [
      "enter a number:2342\n",
      "Even\n"
     ]
    }
   ],
   "source": [
    "OddEven.OddEven()"
   ]
  },
  {
   "cell_type": "markdown",
   "metadata": {},
   "source": [
    "ElegibilityForMarriage.Elegible()"
   ]
  },
  {
   "cell_type": "code",
   "execution_count": 26,
   "metadata": {},
   "outputs": [],
   "source": [
    "class ElegibilityForMarriage():\n",
    "    \n",
    "    def Elegible():\n",
    "        gender = input(\"Enter the gender:\")\n",
    "        age = int(input(\"Enter age:\"))\n",
    "        \n",
    "        if (gender == \"male\"):\n",
    "            if age >= 21:\n",
    "                print(\"Eligible for marriage\")\n",
    "            else:\n",
    "                print(\"Not Eligible\")\n",
    "        \n",
    "        elif (gender == \"female\"):\n",
    "            if age >= 18:\n",
    "                print(\"Eligible for marriage\")\n",
    "            else:\n",
    "                print(\"Not Eligible\")\n",
    "        else:\n",
    "            print(\"invalid\")\n",
    "\n"
   ]
  },
  {
   "cell_type": "code",
   "execution_count": 27,
   "metadata": {},
   "outputs": [
    {
     "name": "stdout",
     "output_type": "stream",
     "text": [
      "Enter the gender:female\n",
      "Enter age:26\n",
      "Eligible for marriage\n"
     ]
    }
   ],
   "source": [
    "\n",
    "ElegibilityForMarriage.Elegible()"
   ]
  },
  {
   "cell_type": "markdown",
   "metadata": {},
   "source": [
    "FindPercent.percentage()"
   ]
  },
  {
   "cell_type": "code",
   "execution_count": 50,
   "metadata": {},
   "outputs": [],
   "source": [
    "class FindPercent():\n",
    "    \n",
    "    def percentage():\n",
    "\n",
    "        sub1 = int(input(\"Subject 1:\"))\n",
    "        sub2 = int(input(\"Subject 2:\"))\n",
    "        sub3 = int(input(\"Subject 3:\"))\n",
    "        sub4 = int(input(\"Subject 4:\"))\n",
    "        sub5 = int(input(\"Subject 5:\"))\n",
    "\n",
    "        total_mark = sub1+sub2+sub3+sub4+sub5\n",
    "        max_mark = 500\n",
    "        percentage = (total_mark/max_mark)*100\n",
    "        #return percentage\n",
    "\n",
    "        print(percentage)"
   ]
  },
  {
   "cell_type": "code",
   "execution_count": 51,
   "metadata": {},
   "outputs": [
    {
     "name": "stdout",
     "output_type": "stream",
     "text": [
      "Subject 1:98\n",
      "Subject 2:87\n",
      "Subject 3:95\n",
      "Subject 4:95\n",
      "Subject 5:93\n",
      "93.60000000000001\n"
     ]
    }
   ],
   "source": [
    "FindPercent.percentage()"
   ]
  },
  {
   "cell_type": "markdown",
   "metadata": {},
   "source": [
    "triangle.triangle()"
   ]
  },
  {
   "cell_type": "code",
   "execution_count": 47,
   "metadata": {},
   "outputs": [],
   "source": [
    "class triangle():\n",
    "    \n",
    "    def triangle_area():\n",
    "        height = int(input(\"Height: \"))\n",
    "        breath = int(input(\"Breath: \"))\n",
    "        print(\"Area formula = (height*breath)/2\")\n",
    "        area = (height*breath)/2\n",
    "        print(area)\n",
    "\n",
    "    def triangle_perimeter():\n",
    "        height1 = int(input(\"Height1: \"))\n",
    "        height2 = int(input(\"Height2: \"))\n",
    "        breath = int(input(\"Breath: \"))\n",
    "        print(\"Perimeter formula = height1 + height2 + breath\")\n",
    "        perimeter = height1 + height2 + breath\n",
    "        print(perimeter)"
   ]
  },
  {
   "cell_type": "code",
   "execution_count": 48,
   "metadata": {},
   "outputs": [
    {
     "name": "stdout",
     "output_type": "stream",
     "text": [
      "Height: 32\n",
      "Breath: 34\n",
      "Area formula = (height*breath)/2\n",
      "544.0\n"
     ]
    }
   ],
   "source": [
    "triangle.triangle_area()"
   ]
  },
  {
   "cell_type": "code",
   "execution_count": 49,
   "metadata": {},
   "outputs": [
    {
     "name": "stdout",
     "output_type": "stream",
     "text": [
      "Height1: 2\n",
      "Height2: 4\n",
      "Breath: 4\n",
      "Perimeter formula = height1 + height2 + breath\n",
      "10\n"
     ]
    }
   ],
   "source": [
    "triangle.triangle_perimeter()"
   ]
  },
  {
   "cell_type": "code",
   "execution_count": null,
   "metadata": {},
   "outputs": [],
   "source": []
  }
 ],
 "metadata": {
  "kernelspec": {
   "display_name": "Python 3",
   "language": "python",
   "name": "python3"
  },
  "language_info": {
   "codemirror_mode": {
    "name": "ipython",
    "version": 3
   },
   "file_extension": ".py",
   "mimetype": "text/x-python",
   "name": "python",
   "nbconvert_exporter": "python",
   "pygments_lexer": "ipython3",
   "version": "3.8.5"
  }
 },
 "nbformat": 4,
 "nbformat_minor": 4
}
